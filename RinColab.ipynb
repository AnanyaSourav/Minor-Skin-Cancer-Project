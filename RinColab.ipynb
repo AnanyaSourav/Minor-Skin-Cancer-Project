{
  "nbformat": 4,
  "nbformat_minor": 0,
  "metadata": {
    "colab": {
      "name": "RinColab.ipynb",
      "provenance": [],
      "include_colab_link": true
    },
    "kernelspec": {
      "name": "ir",
      "display_name": "R"
    }
  },
  "cells": [
    {
      "cell_type": "markdown",
      "metadata": {
        "id": "view-in-github",
        "colab_type": "text"
      },
      "source": [
        "<a href=\"https://colab.research.google.com/github/AnanyaSourav/Minor-Skin-Cancer-Project/blob/main/RinColab.ipynb\" target=\"_parent\"><img src=\"https://colab.research.google.com/assets/colab-badge.svg\" alt=\"Open In Colab\"/></a>"
      ]
    },
    {
      "cell_type": "code",
      "source": [
        "# Install necessary packages\n",
        "install.packages(c(\"data.table\", \"ggplot2\", \"igraph\", \"gtools\", \"cluster\", \"factoextra\"))\n",
        "\n",
        "# Load libraries\n",
        "library(data.table)\n",
        "library(ggplot2)\n",
        "library(igraph)\n",
        "library(gtools)\n",
        "library(cluster)\n",
        "library(factoextra)\n",
        "\n",
        "# Define input/output paths\n",
        "input_folder <- \"/content/sample_data/merged\"\n",
        "output_folder <- \"/content/sample_data/Analysis_Results\"\n",
        "dir.create(output_folder, showWarnings = FALSE)\n",
        "\n",
        "# Load all CSV files\n",
        "file_list <- list.files(input_folder, pattern = \"*.csv\", full.names = TRUE)\n",
        "\n",
        "# Initialize empty list to store data\n",
        "all_data <- list()\n",
        "\n",
        "# Read and clean data\n",
        "for (file in file_list) {\n",
        "    df <- fread(file)\n",
        "\n",
        "    # Ensure correct column names\n",
        "    if (!all(c(\"HGNC_Symbol\", \"log2R_CNA\", \"Z_Score\") %in% colnames(df))) {\n",
        "        next  # Skip files with incorrect format\n",
        "    }\n",
        "\n",
        "    # Remove duplicates\n",
        "    df <- unique(df)\n",
        "\n",
        "    # Handle missing values (impute with median)\n",
        "    df[, log2R_CNA := ifelse(is.na(log2R_CNA), median(log2R_CNA, na.rm = TRUE), log2R_CNA)]\n",
        "    df[, Z_Score := ifelse(is.na(Z_Score), median(Z_Score, na.rm = TRUE), Z_Score)]\n",
        "\n",
        "    # Normalize values\n",
        "    df[, log2R_CNA := scale(log2R_CNA)]\n",
        "    df[, Z_Score := scale(Z_Score)]\n",
        "\n",
        "    # Store in list\n",
        "    patient_id <- tools::file_path_sans_ext(basename(file))\n",
        "    all_data[[patient_id]] <- df\n",
        "}\n",
        "\n",
        "# Convert list to combined data table\n",
        "combined_data <- rbindlist(all_data, idcol = \"Patient_ID\")\n",
        "\n",
        "# Compute variance & standard deviation\n",
        "variance_stats <- combined_data[, .(\n",
        "    Mean_CNA = mean(log2R_CNA, na.rm = TRUE),\n",
        "    SD_CNA = sd(log2R_CNA, na.rm = TRUE),\n",
        "    Mean_Exp = mean(Z_Score, na.rm = TRUE),\n",
        "    SD_Exp = sd(Z_Score, na.rm = TRUE)\n",
        "), by = HGNC_Symbol]\n",
        "\n",
        "# Save variance statistics\n",
        "fwrite(variance_stats, file.path(output_folder, \"variance_statistics.csv\"))\n",
        "\n",
        "# Visualize variance distribution\n",
        "png(file.path(output_folder, \"variance_distribution.png\"), width = 800, height = 600)\n",
        "ggplot(variance_stats, aes(x = SD_CNA, y = SD_Exp)) +\n",
        "    geom_point(alpha = 0.6) +\n",
        "    labs(title = \"Variance Distribution: CNA vs Expression\",\n",
        "         x = \"CNA Standard Deviation\",\n",
        "         y = \"Expression Standard Deviation\") +\n",
        "    theme_minimal()\n",
        "dev.off()\n",
        "\n",
        "# Network Analysis: Build gene interaction graph\n",
        "graph_data <- combined_data[, .(\n",
        "    Correlation = cor(log2R_CNA, Z_Score, use = \"complete.obs\")\n",
        "), by = HGNC_Symbol]\n",
        "\n",
        "# Filter significant interactions\n",
        "graph_data <- graph_data[abs(Correlation) > 0.5]\n",
        "\n",
        "# Create graph\n",
        "gene_graph <- graph_from_data_frame(graph_data, directed = FALSE)\n",
        "png(file.path(output_folder, \"gene_network.png\"), width = 800, height = 600)\n",
        "plot(gene_graph, vertex.size = 5, vertex.label.cex = 0.7, main = \"Gene Interaction Network\")\n",
        "dev.off()\n",
        "\n",
        "# Clustering patients based on CNA-Expression profiles\n",
        "patient_matrix <- dcast(combined_data, Patient_ID ~ HGNC_Symbol, value.var = \"log2R_CNA\")\n",
        "patient_matrix <- as.matrix(patient_matrix[, -1, with = FALSE])  # Remove Patient_ID column\n",
        "\n",
        "# Check for NA values\n",
        "if (any(is.na(patient_matrix))) {\n",
        "    patient_matrix[is.na(patient_matrix)] <- 0\n",
        "}\n",
        "\n",
        "# Perform hierarchical clustering\n",
        "dist_matrix <- dist(patient_matrix, method = \"euclidean\")\n",
        "hc <- hclust(dist_matrix, method = \"ward.D2\")\n",
        "\n",
        "# Save dendrogram\n",
        "png(file.path(output_folder, \"patient_clustering.png\"), width = 800, height = 600)\n",
        "plot(hc, main = \"Hierarchical Clustering of Patients\", xlab = \"\", sub = \"\")\n",
        "dev.off()\n",
        "\n",
        "# Save final processed dataset\n",
        "fwrite(combined_data, file.path(output_folder, \"final_processed_data.csv\"))\n"
      ],
      "metadata": {
        "id": "Rgi8YSggb1kl",
        "outputId": "97a4c7b7-e2b7-44fe-9cd4-15111d71e5e6",
        "colab": {
          "base_uri": "https://localhost:8080/",
          "height": 627
        }
      },
      "execution_count": null,
      "outputs": [
        {
          "output_type": "stream",
          "name": "stderr",
          "text": [
            "Installing packages into ‘/usr/local/lib/R/site-library’\n",
            "(as ‘lib’ is unspecified)\n",
            "\n",
            "also installing the dependencies ‘rbibutils’, ‘Deriv’, ‘microbenchmark’, ‘Rdpack’, ‘doBy’, ‘SparseM’, ‘MatrixModels’, ‘minqa’, ‘nloptr’, ‘reformulas’, ‘RcppEigen’, ‘lazyeval’, ‘carData’, ‘Formula’, ‘pbkrtest’, ‘quantreg’, ‘lme4’, ‘crosstalk’, ‘estimability’, ‘numDeriv’, ‘mvtnorm’, ‘corrplot’, ‘viridis’, ‘car’, ‘DT’, ‘ellipse’, ‘emmeans’, ‘flashClust’, ‘leaps’, ‘multcompView’, ‘scatterplot3d’, ‘ggsci’, ‘cowplot’, ‘ggsignif’, ‘gridExtra’, ‘polynom’, ‘rstatix’, ‘plyr’, ‘abind’, ‘dendextend’, ‘FactoMineR’, ‘ggpubr’, ‘reshape2’, ‘ggrepel’\n",
            "\n",
            "\n",
            "\n",
            "Attaching package: ‘igraph’\n",
            "\n",
            "\n",
            "The following objects are masked from ‘package:stats’:\n",
            "\n",
            "    decompose, spectrum\n",
            "\n",
            "\n",
            "The following object is masked from ‘package:base’:\n",
            "\n",
            "    union\n",
            "\n",
            "\n",
            "\n",
            "Attaching package: ‘gtools’\n",
            "\n",
            "\n",
            "The following object is masked from ‘package:igraph’:\n",
            "\n",
            "    permute\n",
            "\n",
            "\n",
            "Welcome! Want to learn more? See two factoextra-related books at https://goo.gl/ve3WBa\n",
            "\n"
          ]
        },
        {
          "output_type": "display_data",
          "data": {
            "text/html": [
              "<strong>pdf:</strong> 2"
            ],
            "text/markdown": "**pdf:** 2",
            "text/latex": "\\textbf{pdf:} 2",
            "text/plain": [
              "pdf \n",
              "  2 "
            ]
          },
          "metadata": {}
        },
        {
          "output_type": "display_data",
          "data": {
            "text/html": [
              "<strong>pdf:</strong> 2"
            ],
            "text/markdown": "**pdf:** 2",
            "text/latex": "\\textbf{pdf:} 2",
            "text/plain": [
              "pdf \n",
              "  2 "
            ]
          },
          "metadata": {}
        },
        {
          "output_type": "display_data",
          "data": {
            "text/html": [
              "<strong>pdf:</strong> 2"
            ],
            "text/markdown": "**pdf:** 2",
            "text/latex": "\\textbf{pdf:} 2",
            "text/plain": [
              "pdf \n",
              "  2 "
            ]
          },
          "metadata": {}
        }
      ]
    },
    {
      "cell_type": "code",
      "source": [
        "# Install necessary packages if not installed\n",
        "install.packages(\"dplyr\", dependencies=TRUE)\n",
        "\n",
        "# Load required library\n",
        "library(dplyr)\n",
        "\n",
        "# Set file paths for Google Colab\n",
        "input_file <- \"/content/sample_data/variance_statistics.csv\"\n",
        "output_file <- \"/content/sample_data/gene_variability_categories_2.csv\"\n",
        "\n",
        "# Read the variance statistics file\n",
        "data <- read.csv(input_file, stringsAsFactors = FALSE)\n",
        "\n",
        "# Remove missing values (if any)\n",
        "data <- na.omit(data)\n",
        "\n",
        "# Define percentile-based categories\n",
        "categorize <- function(values) {\n",
        "  quantiles <- quantile(values, probs = c(0.33, 0.66), na.rm = TRUE)\n",
        "  cut(values, breaks = c(-Inf, quantiles[1], quantiles[2], Inf),\n",
        "      labels = c(\"Low\", \"Moderate\", \"High\"), include.lowest = TRUE)\n",
        "}\n",
        "\n",
        "# Apply categorization\n",
        "data <- data %>%\n",
        "  mutate(\n",
        "    CNA_Category = categorize(SD_CNA),\n",
        "    Exp_Category = categorize(SD_Exp)\n",
        "  )\n",
        "\n",
        "# Save the output file\n",
        "write.csv(data, output_file, row.names = FALSE)\n",
        "\n",
        "print(\"Gene variability file successfully generated!\")\n"
      ],
      "metadata": {
        "id": "OzrcX5Lp-SPN",
        "outputId": "f59448a5-a2be-4847-acad-65e182e12b08",
        "colab": {
          "base_uri": "https://localhost:8080/"
        }
      },
      "execution_count": 2,
      "outputs": [
        {
          "output_type": "stream",
          "name": "stderr",
          "text": [
            "Installing package into ‘/usr/local/lib/R/site-library’\n",
            "(as ‘lib’ is unspecified)\n",
            "\n"
          ]
        },
        {
          "output_type": "stream",
          "name": "stdout",
          "text": [
            "[1] \"Gene variability file successfully generated!\"\n"
          ]
        }
      ]
    }
  ]
}