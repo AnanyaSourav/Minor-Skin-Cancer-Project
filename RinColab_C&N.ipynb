{
  "nbformat": 4,
  "nbformat_minor": 0,
  "metadata": {
    "colab": {
      "name": "RinColab.ipynb",
      "provenance": [],
      "include_colab_link": true
    },
    "kernelspec": {
      "name": "ir",
      "display_name": "R"
    }
  },
  "cells": [
    {
      "cell_type": "markdown",
      "metadata": {
        "id": "view-in-github",
        "colab_type": "text"
      },
      "source": [
        "<a href=\"https://colab.research.google.com/github/AnanyaSourav/Minor-Skin-Cancer-Project/blob/main/RinColab_C%26N.ipynb\" target=\"_parent\"><img src=\"https://colab.research.google.com/assets/colab-badge.svg\" alt=\"Open In Colab\"/></a>"
      ]
    },
    {
      "cell_type": "code",
      "source": [
        "# Install required libraries (if not installed)\n",
        "if (!require(\"dplyr\")) install.packages(\"dplyr\", dependencies=TRUE)\n",
        "if (!require(\"tidyr\")) install.packages(\"tidyr\", dependencies=TRUE)\n",
        "\n",
        "# Load libraries\n",
        "library(dplyr)\n",
        "library(tidyr)\n",
        "\n",
        "# Set file paths\n",
        "input_file <- \"/content/sample_data/variance_statistics.csv\"  # Update with Colab path\n",
        "output_file <- \"/content/sample_data/RESgene_clusters_all_4.csv\"\n",
        "\n",
        "# Read the data properly\n",
        "data <- read.csv(input_file, stringsAsFactors = FALSE)\n",
        "\n",
        "# Check column names\n",
        "print(\"Column names in dataset:\")\n",
        "print(colnames(data))\n",
        "\n",
        "# Ensure required columns exist\n",
        "required_cols <- c(\"HGNC_Symbol\", \"SD_CNA\", \"SD_Exp\")\n",
        "missing_cols <- setdiff(required_cols, colnames(data))\n",
        "\n",
        "if (length(missing_cols) > 0) {\n",
        "    stop(paste(\"Missing columns:\", paste(missing_cols, collapse = \", \")))\n",
        "}\n",
        "\n",
        "# Remove rows with missing values in SD_CNA or SD_Exp\n",
        "data <- data %>% select(HGNC_Symbol, SD_CNA, SD_Exp) %>% drop_na()\n",
        "\n",
        "# Remove duplicate HGNC_Symbol entries\n",
        "data <- data %>% distinct(HGNC_Symbol, .keep_all = TRUE)\n",
        "\n",
        "# Normalize SD_CNA and SD_Exp\n",
        "data <- data %>%\n",
        "  mutate(SD_CNA = scale(SD_CNA), SD_Exp = scale(SD_Exp))\n",
        "\n",
        "# Perform k-means clustering (3 clusters, matching original file)\n",
        "set.seed(42)\n",
        "kmeans_result <- kmeans(data[, c(\"SD_CNA\", \"SD_Exp\")], centers = 3, iter.max = 50, nstart = 10)\n",
        "\n",
        "# Assign clusters and ensure labels are 1, 2, 3\n",
        "cluster_data <- data %>%\n",
        "  mutate(Cluster = as.numeric(factor(kmeans_result$cluster, labels = c(1, 2, 3)))) %>%\n",
        "  select(HGNC_Symbol, Cluster)\n",
        "\n",
        "# Save output\n",
        "write.csv(cluster_data, output_file, row.names = FALSE)\n",
        "\n",
        "print(\"✅ Clustering complete! File saved as RESgene_clusters_all.csv\")\n"
      ],
      "metadata": {
        "id": "NdSwXi6v86KW",
        "outputId": "1fded332-39ff-4738-c741-74d863bbe308",
        "colab": {
          "base_uri": "https://localhost:8080/"
        }
      },
      "execution_count": 2,
      "outputs": [
        {
          "output_type": "stream",
          "name": "stdout",
          "text": [
            "[1] \"Column names in dataset:\"\n",
            "[1] \"HGNC_Symbol\" \"Mean_CNA\"    \"SD_CNA\"      \"Mean_Exp\"    \"SD_Exp\"     \n",
            "[1] \"✅ Clustering complete! File saved as RESgene_clusters_all.csv\"\n"
          ]
        }
      ]
    },
    {
      "cell_type": "code",
      "source": [
        "# Install required packages if not already installed\n",
        "if (!requireNamespace(\"igraph\", quietly = TRUE)) install.packages(\"igraph\", dependencies=TRUE)\n",
        "if (!requireNamespace(\"ggplot2\", quietly = TRUE)) install.packages(\"ggplot2\", dependencies=TRUE)\n",
        "if (!requireNamespace(\"dplyr\", quietly = TRUE)) install.packages(\"dplyr\", dependencies=TRUE)\n",
        "if (!requireNamespace(\"ggraph\", quietly = TRUE)) install.packages(\"ggraph\", dependencies=TRUE)\n",
        "if (!requireNamespace(\"tidygraph\", quietly = TRUE)) install.packages(\"tidygraph\", dependencies=TRUE)\n",
        "\n",
        "# Load libraries\n",
        "library(igraph)\n",
        "library(ggplot2)\n",
        "library(dplyr)\n",
        "library(ggraph)\n",
        "library(tidygraph)\n",
        "\n",
        "# Define file path (Update as per Colab)\n",
        "input_file <- \"//content/sample_data/RESgene_clusters_all_4.csv\"\n",
        "\n",
        "# Load the cluster data\n",
        "clusters <- read.csv(input_file, stringsAsFactors = FALSE)\n",
        "colnames(clusters) <- c(\"HGNC_Symbol\", \"Cluster\")  # Ensure correct column names\n",
        "\n",
        "# Determine the number of clusters\n",
        "num_clusters <- length(unique(clusters$Cluster))\n",
        "genes_per_cluster <- floor(100 / num_clusters)  # Equal distribution of 100 genes/50 gene can be used to get clear understanding of network\n",
        "\n",
        "# Sample genes equally from each cluster\n",
        "set.seed(42)  # Ensure reproducibility\n",
        "selected_genes <- clusters %>%\n",
        "  group_by(Cluster) %>%\n",
        "  sample_n(size = genes_per_cluster, replace = FALSE) %>%\n",
        "  ungroup()\n",
        "\n",
        "# Display selected genes count\n",
        "print(table(selected_genes$Cluster))\n",
        "\n",
        "# Generate a sparse adjacency matrix (random edges)\n",
        "set.seed(42)\n",
        "\n",
        "# Create possible edges (excluding self-loops)\n",
        "edges <- expand.grid(gene1 = selected_genes$HGNC_Symbol, gene2 = selected_genes$HGNC_Symbol)\n",
        "edges <- edges[edges$gene1 != edges$gene2, ]  # Remove self-loops\n",
        "\n",
        "# Randomly select 10% of possible edges for a sparse network\n",
        "edges <- edges[sample(nrow(edges), size = round(0.10 * nrow(edges))), ]\n",
        "\n",
        "# Convert to igraph object\n",
        "graph <- graph_from_data_frame(edges, directed = FALSE)\n",
        "\n",
        "# Convert to a tidygraph object for visualization\n",
        "graph_tbl <- as_tbl_graph(graph) %>%\n",
        "  mutate(cluster = as.factor(selected_genes$Cluster))\n",
        "\n",
        "# Save and display optimized network visualization\n",
        "output_network <- \"/content/gene_network_balanced_100.png\"\n",
        "png(output_network, width = 800, height = 600)\n",
        "\n",
        "ggraph(graph_tbl, layout = \"fr\") +\n",
        "  geom_edge_link(aes(alpha = 0.5), color = \"gray\") +\n",
        "  geom_node_point(aes(color = cluster), size = 4) +\n",
        "  geom_node_text(aes(label = name), repel = TRUE, size = 3) +\n",
        "  theme_graph()\n",
        "\n",
        "dev.off()\n",
        "\n",
        "cat(\"Network image saved to:\", output_network, \"\\n\")"
      ],
      "metadata": {
        "id": "wOSawZI4A7V9",
        "outputId": "65f712d2-a17a-4d1f-be87-1299d00bdd4d",
        "colab": {
          "base_uri": "https://localhost:8080/",
          "height": 104
        }
      },
      "execution_count": 4,
      "outputs": [
        {
          "output_type": "stream",
          "name": "stdout",
          "text": [
            "\n",
            " 1  2  3 \n",
            "33 33 33 \n"
          ]
        },
        {
          "output_type": "display_data",
          "data": {
            "text/html": [
              "<strong>pdf:</strong> 2"
            ],
            "text/markdown": "**pdf:** 2",
            "text/latex": "\\textbf{pdf:} 2",
            "text/plain": [
              "pdf \n",
              "  2 "
            ]
          },
          "metadata": {}
        },
        {
          "output_type": "stream",
          "name": "stdout",
          "text": [
            "Network image saved to: /content/gene_network_balanced_100.png \n"
          ]
        }
      ]
    }
  ]
}